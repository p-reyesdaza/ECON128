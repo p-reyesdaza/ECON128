{
 "cells": [
  {
   "cell_type": "code",
   "execution_count": 3,
   "metadata": {},
   "outputs": [
    {
     "name": "stdout",
     "output_type": "stream",
     "text": [
      "600\n",
      "['id', 'age', 'sex', 'region', 'income', 'married', 'children', 'car', 'save_act', 'current_act', 'mortgage', 'pep']\n"
     ]
    },
    {
     "data": {
      "text/html": [
       "<div>\n",
       "<style scoped>\n",
       "    .dataframe tbody tr th:only-of-type {\n",
       "        vertical-align: middle;\n",
       "    }\n",
       "\n",
       "    .dataframe tbody tr th {\n",
       "        vertical-align: top;\n",
       "    }\n",
       "\n",
       "    .dataframe thead th {\n",
       "        text-align: right;\n",
       "    }\n",
       "</style>\n",
       "<table border=\"1\" class=\"dataframe\">\n",
       "  <thead>\n",
       "    <tr style=\"text-align: right;\">\n",
       "      <th></th>\n",
       "      <th>id</th>\n",
       "      <th>age</th>\n",
       "      <th>sex</th>\n",
       "      <th>region</th>\n",
       "      <th>income</th>\n",
       "      <th>married</th>\n",
       "      <th>children</th>\n",
       "      <th>car</th>\n",
       "      <th>save_act</th>\n",
       "      <th>current_act</th>\n",
       "      <th>mortgage</th>\n",
       "      <th>pep</th>\n",
       "    </tr>\n",
       "  </thead>\n",
       "  <tbody>\n",
       "    <tr>\n",
       "      <th>0</th>\n",
       "      <td>ID12101</td>\n",
       "      <td>48</td>\n",
       "      <td>FEMALE</td>\n",
       "      <td>INNER_CITY</td>\n",
       "      <td>17546.0</td>\n",
       "      <td>NO</td>\n",
       "      <td>1</td>\n",
       "      <td>NO</td>\n",
       "      <td>NO</td>\n",
       "      <td>NO</td>\n",
       "      <td>NO</td>\n",
       "      <td>YES</td>\n",
       "    </tr>\n",
       "  </tbody>\n",
       "</table>\n",
       "</div>"
      ],
      "text/plain": [
       "        id  age     sex      region   income married  children car save_act  \\\n",
       "0  ID12101   48  FEMALE  INNER_CITY  17546.0      NO         1  NO       NO   \n",
       "\n",
       "  current_act mortgage  pep  \n",
       "0          NO       NO  YES  "
      ]
     },
     "execution_count": 3,
     "metadata": {},
     "output_type": "execute_result"
    }
   ],
   "source": [
    "#Paula Reyes Daza Assignment 1\n",
    "\n",
    "import numpy as np\n",
    "import pandas as pd\n",
    "import matplotlib.mlab as mlab\n",
    "import matplotlib.pyplot as plt\n",
    "\n",
    "\n",
    "df = pd.read_csv('bank-data.csv', sep=',', error_bad_lines=False)\n",
    "\n",
    "print len(df)    # print number of rows\n",
    "print list(df)   # print 1st header\n",
    "\n",
    "df.head(1)"
   ]
  },
  {
   "cell_type": "markdown",
   "metadata": {},
   "source": [
    "\n",
    "\n",
    "(1) Explore the general characteristics of the data as a whole: examine the means, standard de-\n",
    "viations, and other statistics associated with the numerical attributes; show the distributions\n",
    "of values associated with categorical attributes; etc."
   ]
  },
  {
   "cell_type": "code",
   "execution_count": 56,
   "metadata": {},
   "outputs": [
    {
     "name": "stdout",
     "output_type": "stream",
     "text": [
      "~Age~\n",
      "Min:  18\n",
      "Max:  67\n",
      "Std:  14.424947377538029\n",
      "Avg:  42.395\n",
      "Median: 42.0\n"
     ]
    }
   ],
   "source": [
    "#Analysis of 'Age' Data\n",
    "print \"~Age~\"\n",
    "\n",
    "print \"Min: \" , min(df['age'])\n",
    "print \"Max: \" , max(df['age'])\n",
    "print \"Std: \" , df['age'].std()\n",
    "print \"Avg: \" , df['age'].mean()\n",
    "print \"Median:\",df['age'].median()\n"
   ]
  },
  {
   "cell_type": "markdown",
   "metadata": {},
   "source": [
    "The average age is 42, but the standard devation indicates that there are a wide range of ages (18-67 year olds)"
   ]
  },
  {
   "cell_type": "code",
   "execution_count": 133,
   "metadata": {},
   "outputs": [
    {
     "name": "stdout",
     "output_type": "stream",
     "text": [
      "~Sex~\n",
      "FEMALE : 300\n",
      "MALE : 300\n"
     ]
    }
   ],
   "source": [
    "#Analysis of 'Sex' Data\n",
    "print '~Sex~'\n",
    "\n",
    "sex_groupby = df.groupby('sex')\n",
    "\n",
    "for key, value in sex_groupby:\n",
    "    print  key, \":\", len(value)\n"
   ]
  },
  {
   "cell_type": "markdown",
   "metadata": {},
   "source": [
    "There is an even number of males and females in the data set"
   ]
  },
  {
   "cell_type": "code",
   "execution_count": 53,
   "metadata": {},
   "outputs": [
    {
     "name": "stdout",
     "output_type": "stream",
     "text": [
      "~Region~\n",
      "INNER_CITY : 269\n",
      "RURAL : 96\n",
      "SUBURBAN : 62\n",
      "TOWN : 173\n"
     ]
    }
   ],
   "source": [
    "#Analysis of 'Region' Data\n",
    "print '~Region~'\n",
    "\n",
    "region_groupby = df.groupby('region')\n",
    "\n",
    "for key, value in region_groupby:\n",
    "    print key, \":\", len(value)\n",
    "    "
   ]
  },
  {
   "cell_type": "markdown",
   "metadata": {},
   "source": [
    "The people in this data set live in different area, with the least people living in suburban areas and the most living in inner city areas"
   ]
  },
  {
   "cell_type": "code",
   "execution_count": 7,
   "metadata": {},
   "outputs": [
    {
     "name": "stdout",
     "output_type": "stream",
     "text": [
      "~Income~\n",
      "Min:  5014.21\n",
      "Max:  63130.1\n",
      "Std:  12899.468245630569\n",
      "Avg:  27524.031216666666\n",
      "Median: 24925.3\n"
     ]
    }
   ],
   "source": [
    "#Analysis of 'Income' Data\n",
    "print '~Income~'\n",
    "\n",
    "print \"Min: \" , min(df['income'])\n",
    "print \"Max: \" , max(df['income'])\n",
    "print \"Std: \" , df['income'].std()\n",
    "print \"Avg: \" , df['income'].mean()\n",
    "print \"Median:\",df['income'].median()"
   ]
  },
  {
   "cell_type": "markdown",
   "metadata": {},
   "source": [
    "The average income is about 27524, but there is a wide range of data which differs by a whole order of magnitude, since incomes go from 5014 to 63130"
   ]
  },
  {
   "cell_type": "code",
   "execution_count": 26,
   "metadata": {},
   "outputs": [
    {
     "name": "stdout",
     "output_type": "stream",
     "text": [
      "~Married Status~\n",
      "NO : 204\n",
      "YES : 396\n"
     ]
    }
   ],
   "source": [
    "#Analysis of 'Married Status' Data\n",
    "print '~Married Status~'\n",
    "\n",
    "married_groupby = df.groupby('married')\n",
    "\n",
    "for key, value in married_groupby:\n",
    "    print key, \":\", len(value)"
   ]
  },
  {
   "cell_type": "markdown",
   "metadata": {},
   "source": [
    "most people in the data set are married"
   ]
  },
  {
   "cell_type": "code",
   "execution_count": 12,
   "metadata": {},
   "outputs": [
    {
     "name": "stdout",
     "output_type": "stream",
     "text": [
      "~# of Children~\n",
      "Min:  0\n",
      "Max:  3\n",
      "Std:  1.0567521456730191\n",
      "Avg:  1.0116666666666667\n",
      "Median: 1.0\n"
     ]
    }
   ],
   "source": [
    "#Analysis of 'Children' Data\n",
    "print '~# of Children~'\n",
    "\n",
    "print \"Min: \" , min(df['children'])\n",
    "print \"Max: \" , max(df['children'])\n",
    "print \"Std: \" , df['children'].std()\n",
    "print \"Avg: \" , df['children'].mean()\n",
    "print \"Median:\",df['children'].median()"
   ]
  },
  {
   "cell_type": "markdown",
   "metadata": {},
   "source": [
    "There are childless people, and people with 1, 2, or 3 kids. But it seems that most people in the data set have, on average, 1 child."
   ]
  },
  {
   "cell_type": "code",
   "execution_count": 50,
   "metadata": {},
   "outputs": [
    {
     "name": "stdout",
     "output_type": "stream",
     "text": [
      "~Car~\n",
      "NO : 304\n",
      "YES : 296\n"
     ]
    }
   ],
   "source": [
    "#Analysis of 'Car' Data\n",
    "print '~Car~'\n",
    "\n",
    "car_groupby = df.groupby('car')\n",
    "\n",
    "\n",
    "for key, value in car_groupby:\n",
    "    print  key, \":\", len(value)"
   ]
  },
  {
   "cell_type": "markdown",
   "metadata": {},
   "source": [
    "About half of the people have cars and the other half dont; there are only 8 more people without cars than with cars "
   ]
  },
  {
   "cell_type": "code",
   "execution_count": 22,
   "metadata": {},
   "outputs": [
    {
     "name": "stdout",
     "output_type": "stream",
     "text": [
      "~Savings Account~\n",
      "NO : 186\n",
      "YES : 414\n"
     ]
    }
   ],
   "source": [
    "#Analysis of 'Saving Account' Data\n",
    "print '~Savings Account~'\n",
    "\n",
    "savings_groupby = df.groupby('save_act')\n",
    "\n",
    "for key, value in savings_groupby:\n",
    "    print key, \":\", len(value)"
   ]
  },
  {
   "cell_type": "markdown",
   "metadata": {},
   "source": [
    "More than half of the people in the data set have a savings account"
   ]
  },
  {
   "cell_type": "code",
   "execution_count": 69,
   "metadata": {},
   "outputs": [
    {
     "name": "stdout",
     "output_type": "stream",
     "text": [
      "~Current Account~\n",
      "NO : 145\n",
      "YES : 455\n"
     ]
    }
   ],
   "source": [
    "#Analysis of 'Current Account' Data\n",
    "print '~Current Account~'\n",
    "\n",
    "current_act_groupby = df.groupby('current_act')\n",
    "\n",
    "for key, value in current_act_groupby:\n",
    "    print key, \":\", len(value)"
   ]
  },
  {
   "cell_type": "markdown",
   "metadata": {},
   "source": [
    "More than half of the people in the data set have a current (credit?) account. More people answered yes to having a current account than a savings account."
   ]
  },
  {
   "cell_type": "code",
   "execution_count": 24,
   "metadata": {},
   "outputs": [
    {
     "name": "stdout",
     "output_type": "stream",
     "text": [
      "~Mortgage~\n",
      "NO : 391\n",
      "YES : 209\n"
     ]
    }
   ],
   "source": [
    "#Analysis of 'Mortgage' Data\n",
    "print '~Mortgage~'\n",
    "\n",
    "mortgage_groupby = df.groupby('mortgage')\n",
    "\n",
    "for key, value in mortgage_groupby:\n",
    "    print key, \":\", len(value)\n"
   ]
  },
  {
   "cell_type": "markdown",
   "metadata": {},
   "source": [
    "less than half of the people in the data set answered yes to having a mortgage "
   ]
  },
  {
   "cell_type": "code",
   "execution_count": 25,
   "metadata": {},
   "outputs": [
    {
     "name": "stdout",
     "output_type": "stream",
     "text": [
      "~Personal Equity Plan~\n",
      "NO : 326\n",
      "YES : 274\n"
     ]
    }
   ],
   "source": [
    "#Analysis of 'PEP' Data\n",
    "print '~Personal Equity Plan~'\n",
    "\n",
    "pep_groupby = df.groupby('pep')\n",
    "\n",
    "for key, value in pep_groupby:\n",
    "    print key, \":\", len(value)\n",
    "    "
   ]
  },
  {
   "cell_type": "markdown",
   "metadata": {},
   "source": [
    "Roughly half of the people in the data set have a PEP and the other half don't. More people don't have one."
   ]
  },
  {
   "cell_type": "markdown",
   "metadata": {},
   "source": [
    "(2) Compare and constrast customers who do and don't buy PEP:"
   ]
  },
  {
   "cell_type": "code",
   "execution_count": 144,
   "metadata": {},
   "outputs": [
    {
     "name": "stdout",
     "output_type": "stream",
     "text": [
      "pep  NO  YES\n",
      "age         \n",
      "18    9    2\n",
      "19    6    4\n",
      "20   11    5\n",
      "21    5    3\n",
      "22   10    5\n",
      "23   11    6\n",
      "24    5    5\n",
      "25    7    3\n",
      "26    7    3\n",
      "27   12    7\n",
      "28    4    5\n",
      "29    7    2\n",
      "30   11    1\n",
      "31    3    7\n",
      "32    6    3\n",
      "33    4    4\n",
      "34    6    6\n",
      "35    7    7\n",
      "36    9    7\n",
      "37    9    3\n",
      "38    7    5\n",
      "39    6    6\n",
      "40   12    8\n",
      "41    7    5\n",
      "42    4    6\n",
      "43   11    9\n",
      "44    3    8\n",
      "45    6    3\n",
      "46    8    6\n",
      "47   11    6\n",
      "48    8    8\n",
      "49    7    5\n",
      "50    4    3\n",
      "51    5    2\n",
      "52    8    7\n",
      "53    0    8\n",
      "54    5    3\n",
      "55    1    2\n",
      "56    9    4\n",
      "57    6    4\n",
      "58    8   11\n",
      "59    2    8\n",
      "60    3    5\n",
      "61    6    8\n",
      "62    2    6\n",
      "63    6    7\n",
      "64    7   13\n",
      "65    7    4\n",
      "66    4    6\n",
      "67    4   10\n"
     ]
    }
   ],
   "source": [
    "pep_groupby = df.groupby('pep')\n",
    "\n",
    "pep_age = pd.crosstab(df.age, df.pep)\n",
    "print pep_age\n",
    "\n"
   ]
  },
  {
   "cell_type": "markdown",
   "metadata": {},
   "source": [
    "Seems like PEP-buyers are older than non-PEP buyers"
   ]
  },
  {
   "cell_type": "code",
   "execution_count": 34,
   "metadata": {},
   "outputs": [
    {
     "name": "stdout",
     "output_type": "stream",
     "text": [
      "sex  FEMALE  MALE\n",
      "pep              \n",
      "NO      170   156\n",
      "YES     130   144\n"
     ]
    },
    {
     "data": {
      "text/plain": [
       "<matplotlib.axes._subplots.AxesSubplot at 0x7f66778a2450>"
      ]
     },
     "execution_count": 34,
     "metadata": {},
     "output_type": "execute_result"
    },
    {
     "data": {
      "image/png": "[encoded data removed]",
      "text/plain": [
       "<matplotlib.figure.Figure at 0x7f66779f9410>"
      ]
     },
     "metadata": {},
     "output_type": "display_data"
    }
   ],
   "source": [
    "pep_sex =pd.crosstab(df.pep, df.sex)\n",
    "print pep_sex\n",
    "pep_sex.plot.bar()\n"
   ]
  },
  {
   "cell_type": "markdown",
   "metadata": {},
   "source": [
    "More men than women have PEPs"
   ]
  },
  {
   "cell_type": "code",
   "execution_count": 35,
   "metadata": {},
   "outputs": [
    {
     "name": "stdout",
     "output_type": "stream",
     "text": [
      "region  INNER_CITY  RURAL  SUBURBAN  TOWN\n",
      "pep                                      \n",
      "NO             146     50        28   102\n",
      "YES            123     46        34    71\n"
     ]
    },
    {
     "data": {
      "text/plain": [
       "<matplotlib.axes._subplots.AxesSubplot at 0x7f6677868410>"
      ]
     },
     "execution_count": 35,
     "metadata": {},
     "output_type": "execute_result"
    },
    {
     "data": {
      "image/png": "[encoded data removed]",
      "text/plain": [
       "<matplotlib.figure.Figure at 0x7f6677840810>"
      ]
     },
     "metadata": {},
     "output_type": "display_data"
    }
   ],
   "source": [
    "pep_region =pd.crosstab(df.pep, df.region)\n",
    "print pep_region\n",
    "\n",
    "pep_region.plot.bar()"
   ]
  },
  {
   "cell_type": "markdown",
   "metadata": {},
   "source": [
    "Relatively, the number of people who live in each kind of region is still similar regardless of whether they do or dont buy PEP. The most people live in inner city and the least live in suburban regions for both subset of customers. However, in the suburban regions you can find more of the customers who buy PEPs, but in inner city and town regions you would find more of the costumers who don't buy PEPs"
   ]
  },
  {
   "cell_type": "code",
   "execution_count": 141,
   "metadata": {},
   "outputs": [
    {
     "name": "stdout",
     "output_type": "stream",
     "text": [
      "pep       NO  YES\n",
      "income           \n",
      "5014.21    1    0\n",
      "6294.21    1    0\n",
      "7304.20    1    0\n",
      "7549.38    1    0\n",
      "7606.25    1    0\n",
      "7723.93    1    0\n",
      "7756.36    0    1\n",
      "7948.62    1    0\n",
      "8020.19    1    0\n",
      "8062.73    0    1\n",
      "8143.75    0    1\n",
      "8162.42    1    0\n",
      "8562.86    1    0\n",
      "8639.24    1    0\n",
      "8877.07    0    1\n",
      "9316.98    1    0\n",
      "9362.58    0    1\n",
      "9465.21    0    1\n",
      "9485.84    1    0\n",
      "9516.91    1    0\n",
      "9589.91    1    0\n",
      "9592.73    0    1\n",
      "9672.25    1    0\n",
      "9824.37    1    0\n",
      "9909.82    1    0\n",
      "9990.11    1    0\n",
      "10044.10   1    0\n",
      "10072.60   1    0\n",
      "10191.80   0    1\n",
      "10441.90   0    1\n",
      "...       ..  ...\n",
      "52670.60   0    1\n",
      "52674.00   0    1\n",
      "52769.90   0    1\n",
      "53104.30   1    0\n",
      "54314.50   0    1\n",
      "54618.80   0    1\n",
      "54863.80   0    1\n",
      "55204.70   0    1\n",
      "55263.00   0    1\n",
      "55716.50   0    1\n",
      "56031.10   0    1\n",
      "56340.30   0    1\n",
      "56394.30   0    1\n",
      "56658.90   0    1\n",
      "56842.50   1    0\n",
      "57176.40   0    1\n",
      "57398.10   0    1\n",
      "57444.50   0    1\n",
      "57671.70   1    0\n",
      "57880.70   0    1\n",
      "58092.00   0    1\n",
      "58367.30   0    1\n",
      "59175.10   0    1\n",
      "59409.10   0    1\n",
      "59503.80   0    1\n",
      "59803.90   1    0\n",
      "59805.60   0    1\n",
      "60747.50   0    1\n",
      "61554.60   1    0\n",
      "63130.10   0    1\n",
      "\n",
      "[599 rows x 2 columns]\n"
     ]
    }
   ],
   "source": [
    "pep_income = pd.crosstab(df.income, df.pep)\n",
    "print pep_income\n"
   ]
  },
  {
   "cell_type": "markdown",
   "metadata": {},
   "source": [
    "Seems like PEP buyers are people who earn higher income than non-PEP buyers"
   ]
  },
  {
   "cell_type": "code",
   "execution_count": 145,
   "metadata": {
    "scrolled": true
   },
   "outputs": [
    {
     "name": "stdout",
     "output_type": "stream",
     "text": [
      "married   NO  YES\n",
      "pep              \n",
      "NO        84  242\n",
      "YES      120  154\n"
     ]
    },
    {
     "data": {
      "text/plain": [
       "<matplotlib.axes._subplots.AxesSubplot at 0x7f665efd88d0>"
      ]
     },
     "execution_count": 145,
     "metadata": {},
     "output_type": "execute_result"
    },
    {
     "data": {
      "image/png": "[encoded data removed]",
      "text/plain": [
       "<matplotlib.figure.Figure at 0x7f665ef826d0>"
      ]
     },
     "metadata": {},
     "output_type": "display_data"
    }
   ],
   "source": [
    "pep_married = pd.crosstab(df.pep, df.married)\n",
    "print pep_married\n",
    "\n",
    "pep_married.plot.bar()"
   ]
  },
  {
   "cell_type": "markdown",
   "metadata": {},
   "source": [
    "The married customers tend to not buy PEPs, since more of the married customers are in the no-PEP group. "
   ]
  },
  {
   "cell_type": "code",
   "execution_count": 42,
   "metadata": {},
   "outputs": [
    {
     "name": "stdout",
     "output_type": "stream",
     "text": [
      "children    0    1   2   3\n",
      "pep                       \n",
      "NO        167   25  79  55\n",
      "YES        96  110  55  13\n"
     ]
    },
    {
     "data": {
      "text/plain": [
       "<matplotlib.axes._subplots.AxesSubplot at 0x7f6677695cd0>"
      ]
     },
     "execution_count": 42,
     "metadata": {},
     "output_type": "execute_result"
    },
    {
     "data": {
      "image/png": "[encoded data removed]",
      "text/plain": [
       "<matplotlib.figure.Figure at 0x7f66777f2b90>"
      ]
     },
     "metadata": {},
     "output_type": "display_data"
    }
   ],
   "source": [
    "pep_children = pd.crosstab(df.pep, df.children)\n",
    "print pep_children\n",
    "\n",
    "pep_children.plot.bar()"
   ]
  },
  {
   "cell_type": "markdown",
   "metadata": {},
   "source": [
    "In this data set, few of the people who buy PEPs have 3 children and many of the people who don't buy PEPs are childless. Only 25 of those don't buy PEPs have 1 child, while 110 of those who do buy PEPs have 1 child (1 = the most average number of children in the data set) so those who buy PEPs are more liekly to have the average number of children"
   ]
  },
  {
   "cell_type": "code",
   "execution_count": 43,
   "metadata": {},
   "outputs": [
    {
     "name": "stdout",
     "output_type": "stream",
     "text": [
      "car   NO  YES\n",
      "pep          \n",
      "NO   168  158\n",
      "YES  136  138\n"
     ]
    },
    {
     "data": {
      "text/plain": [
       "<matplotlib.axes._subplots.AxesSubplot at 0x7f66776d2050>"
      ]
     },
     "execution_count": 43,
     "metadata": {},
     "output_type": "execute_result"
    },
    {
     "data": {
      "image/png": "[encoded data removed]",
      "text/plain": [
       "<matplotlib.figure.Figure at 0x7f667768cb50>"
      ]
     },
     "metadata": {},
     "output_type": "display_data"
    }
   ],
   "source": [
    "pep_car = pd.crosstab(df.pep, df.car)\n",
    "print pep_car\n",
    "\n",
    "pep_car.plot.bar()"
   ]
  },
  {
   "cell_type": "markdown",
   "metadata": {},
   "source": [
    "PEP vs no PEP groups dont seem to be signficantly different in their split between owning a car or not owning one"
   ]
  },
  {
   "cell_type": "code",
   "execution_count": 44,
   "metadata": {},
   "outputs": [
    {
     "name": "stdout",
     "output_type": "stream",
     "text": [
      "save_act  NO  YES\n",
      "pep              \n",
      "NO        91  235\n",
      "YES       95  179\n"
     ]
    },
    {
     "data": {
      "text/plain": [
       "<matplotlib.axes._subplots.AxesSubplot at 0x7f66775f20d0>"
      ]
     },
     "execution_count": 44,
     "metadata": {},
     "output_type": "execute_result"
    },
    {
     "data": {
      "image/png": "[encoded data removed]",
      "text/plain": [
       "<matplotlib.figure.Figure at 0x7f667765e550>"
      ]
     },
     "metadata": {},
     "output_type": "display_data"
    }
   ],
   "source": [
    "pep_save_act = pd.crosstab(df.pep, df.save_act)\n",
    "print pep_save_act\n",
    "\n",
    "pep_save_act.plot.bar()\n"
   ]
  },
  {
   "cell_type": "markdown",
   "metadata": {},
   "source": [
    "Both PEP buyers and non buyers are more likely to have a savings account than to not have one. Doesnt seem like a sigificant difference, although more of the savings account holders are non-PEP buyers."
   ]
  },
  {
   "cell_type": "code",
   "execution_count": 45,
   "metadata": {},
   "outputs": [
    {
     "name": "stdout",
     "output_type": "stream",
     "text": [
      "current_act  NO  YES\n",
      "pep                 \n",
      "NO           82  244\n",
      "YES          63  211\n"
     ]
    },
    {
     "data": {
      "text/plain": [
       "<matplotlib.axes._subplots.AxesSubplot at 0x7f6677524b50>"
      ]
     },
     "execution_count": 45,
     "metadata": {},
     "output_type": "execute_result"
    },
    {
     "data": {
      "image/png": "[encoded data removed]",
      "text/plain": [
       "<matplotlib.figure.Figure at 0x7f6677548390>"
      ]
     },
     "metadata": {},
     "output_type": "display_data"
    }
   ],
   "source": [
    "pep_current = pd.crosstab(df.pep, df.current_act)\n",
    "print pep_current\n",
    "\n",
    "pep_current.plot.bar()"
   ]
  },
  {
   "cell_type": "markdown",
   "metadata": {},
   "source": [
    "Again, both PEP buyers and non buyers are more likely to have a current(credit?) account than to not have one. Doesnt seem like a sigificant difference, although more of the current account holders are non-PEP buyers."
   ]
  },
  {
   "cell_type": "code",
   "execution_count": 47,
   "metadata": {
    "scrolled": false
   },
   "outputs": [
    {
     "name": "stdout",
     "output_type": "stream",
     "text": [
      "mortgage   NO  YES\n",
      "pep               \n",
      "NO        209  117\n",
      "YES       182   92\n"
     ]
    },
    {
     "data": {
      "text/plain": [
       "<matplotlib.axes._subplots.AxesSubplot at 0x7f6677481b90>"
      ]
     },
     "execution_count": 47,
     "metadata": {},
     "output_type": "execute_result"
    },
    {
     "data": {
      "image/png": "[encoded data removed]",
      "text/plain": [
       "<matplotlib.figure.Figure at 0x7f667776ab90>"
      ]
     },
     "metadata": {},
     "output_type": "display_data"
    }
   ],
   "source": [
    "pep_mortgage =pd.crosstab(df.pep, df.mortgage)\n",
    "print pep_mortgage\n",
    "\n",
    "pep_mortgage.plot.bar()"
   ]
  },
  {
   "cell_type": "markdown",
   "metadata": {},
   "source": [
    "Both PEP buyers and non buyers are more likely to NOT have a mortgage. Doesnt seem like a sigificant difference, although more of those who do have a mortgage are non-PEP buyers."
   ]
  },
  {
   "cell_type": "markdown",
   "metadata": {},
   "source": [
    "Overal thoughts on PEP vs. non-PEP customers:"
   ]
  },
  {
   "cell_type": "markdown",
   "metadata": {},
   "source": [
    "PEP buying versus non PEP buying customers are only somewhat differnet. They live in similar regions, proportionally. More of the saving account and credit account are non-PEP buyers, and less the mortgage buyers are part of the non-PEP buyers. Importantly, most of the married people and the childless people are not PEP buyers. Finally, PEP buyers seem to be older and to earn higher income than those who are in the non-PEP group."
   ]
  },
  {
   "cell_type": "markdown",
   "metadata": {},
   "source": [
    "(3) Discretize the age attribute into 3 categories (corresponding to young, mid-age, and old)"
   ]
  },
  {
   "cell_type": "code",
   "execution_count": 146,
   "metadata": {},
   "outputs": [
    {
     "name": "stdout",
     "output_type": "stream",
     "text": [
      "under 30 (young):  156 people\n",
      "30 to 60 (mid-age):  344 people\n",
      "60+ (old) :  76 people\n"
     ]
    }
   ],
   "source": [
    "# 3 categories:\n",
    "#Young: 0-30\n",
    "#Mid-age: 31-60\n",
    "#Old: 60+\n",
    "\n",
    "\n",
    "age_discretize = df.groupby('age')\n",
    "\n",
    "\n",
    "lst_one =[]\n",
    "lst_two =[]\n",
    "lst_three =[]\n",
    "\n",
    "for key, value in age_discretize: \n",
    "    if key < 31:\n",
    "        lst_one.append(len(value))\n",
    "    elif 31 < key < 61:\n",
    "        lst_two.append(len(value))\n",
    "    elif 61 < key:\n",
    "        lst_three.append(len(value))\n",
    "        \n",
    "    \n",
    "\n",
    "one = sum(lst_one)\n",
    "print \"under 30 (young): \",one, \"people\"\n",
    "\n",
    "two = sum(lst_two)\n",
    "print \"30 to 60 (mid-age): \", two, \"people\"\n",
    "\n",
    "\n",
    "three = sum(lst_three)\n",
    "print \"60+ (old) : \", three, \"people\"\n",
    "\n",
    "\n",
    "\n"
   ]
  },
  {
   "cell_type": "markdown",
   "metadata": {},
   "source": [
    "(4) Using Matplotlib library and/or plotting capabilities of Pandas, create a scatter plot of the\n",
    "Income attribute relative to Age."
   ]
  },
  {
   "cell_type": "code",
   "execution_count": 134,
   "metadata": {},
   "outputs": [
    {
     "name": "stdout",
     "output_type": "stream",
     "text": [
      "yes, these variables seem to be positively correlated\n"
     ]
    },
    {
     "data": {
      "image/png": "[encoded data removed]",
      "text/plain": [
       "<matplotlib.figure.Figure at 0x7f66638f5f10>"
      ]
     },
     "metadata": {},
     "output_type": "display_data"
    }
   ],
   "source": [
    "from pandas.tools.plotting import scatter_matrix\n",
    "import matplotlib.pyplot as plt\n",
    "\n",
    "fig=plt.figure()\n",
    "plt.scatter(df.income, df.age)\n",
    "axis = fig.gca()\n",
    "axis.set_title('Income vs Age')\n",
    "axis.set_xlabel('Income')\n",
    "axis.set_ylabel('Age')\n",
    "fig.canvas.draw()\n",
    "\n",
    "print \"yes, these variables seem to be positively correlated\""
   ]
  },
  {
   "cell_type": "markdown",
   "metadata": {},
   "source": [
    "(5) Create histograms for Income (using 9 bins) and Age (using 15 bins)"
   ]
  },
  {
   "cell_type": "code",
   "execution_count": 147,
   "metadata": {},
   "outputs": [
    {
     "data": {
      "image/png": "[encoded data removed]",
      "text/plain": [
       "<matplotlib.figure.Figure at 0x7f665f5dc190>"
      ]
     },
     "metadata": {},
     "output_type": "display_data"
    },
    {
     "data": {
      "image/png": "[encoded data removed]",
      "text/plain": [
       "<matplotlib.figure.Figure at 0x7f665ee34f10>"
      ]
     },
     "metadata": {},
     "output_type": "display_data"
    }
   ],
   "source": [
    "import matplotlib.mlab as mlab\n",
    "import matplotlib.pyplot as plt\n",
    "import numpy as np\n",
    "\n",
    "# remove NAN from array\n",
    "x = df['income'][~np.isnan(df['income'])]\n",
    "#isnan = for any value that is not a number i want to drop it\n",
    "\n",
    "# plot histogram \n",
    "n, bins, patches = plt.hist(x, 9, normed=1, facecolor='green')\n",
    "plt.title('Income Analysis')\n",
    "plt.ylabel('Frequency')\n",
    "plt.xlabel('Income')\n",
    "plt.show()\n",
    "\n",
    "\n",
    "\n",
    "import matplotlib.mlab as mlab\n",
    "import matplotlib.pyplot as plt\n",
    "import numpy as np\n",
    "\n",
    "# remove NAN from array\n",
    "x = df['age'][~np.isnan(df['age'])]\n",
    "#isnan = for any value that is not a number i want to drop it\n",
    "\n",
    "# plot histogram \n",
    "n, bins, patches = plt.hist(x, 15, normed=1, facecolor='purple')\n",
    "plt.title('Age Analysis')\n",
    "plt.ylabel('Frequency')\n",
    "plt.xlabel('Age')\n",
    "plt.show()"
   ]
  }
 ],
 "metadata": {
  "kernelspec": {
   "display_name": "Python 2",
   "language": "python",
   "name": "python2"
  },
  "language_info": {
   "codemirror_mode": {
    "name": "ipython",
    "version": 2
   },
   "file_extension": ".py",
   "mimetype": "text/x-python",
   "name": "python",
   "nbconvert_exporter": "python",
   "pygments_lexer": "ipython2",
   "version": "2.7.12"
  }
 },
 "nbformat": 4,
 "nbformat_minor": 2
}
